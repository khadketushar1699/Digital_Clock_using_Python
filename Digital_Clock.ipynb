{
 "cells": [
  {
   "cell_type": "markdown",
   "id": "d427e7a7",
   "metadata": {},
   "source": [
    "# Clock using Python"
   ]
  },
  {
   "cell_type": "code",
   "execution_count": 1,
   "id": "0b5b629d",
   "metadata": {},
   "outputs": [],
   "source": [
    "from tkinter import *\n",
    "from tkinter.ttk import *"
   ]
  },
  {
   "cell_type": "code",
   "execution_count": 2,
   "id": "7845a85d",
   "metadata": {},
   "outputs": [],
   "source": [
    "from time import strftime"
   ]
  },
  {
   "cell_type": "code",
   "execution_count": 3,
   "id": "cabfbf67",
   "metadata": {},
   "outputs": [
    {
     "data": {
      "text/plain": [
       "''"
      ]
     },
     "execution_count": 3,
     "metadata": {},
     "output_type": "execute_result"
    }
   ],
   "source": [
    "root = Tk()\n",
    "root.title(\"Digital Clock\")"
   ]
  },
  {
   "cell_type": "code",
   "execution_count": 4,
   "id": "2e1819b6",
   "metadata": {},
   "outputs": [],
   "source": [
    "def time() :\n",
    "    string = strftime('%H:%M:%S %p')\n",
    "    label.config(text = string)\n",
    "    label.after(1000, time)"
   ]
  },
  {
   "cell_type": "code",
   "execution_count": 5,
   "id": "b1ccfbc3",
   "metadata": {},
   "outputs": [],
   "source": [
    "label = Label(root, font = (\"ds_digital\",80), background = \"black\", foreground = \"cyan\")\n",
    "label.pack(anchor = \"center\")\n",
    "time()"
   ]
  },
  {
   "cell_type": "code",
   "execution_count": 6,
   "id": "b6e1595f",
   "metadata": {},
   "outputs": [],
   "source": [
    "mainloop()"
   ]
  }
 ],
 "metadata": {
  "kernelspec": {
   "display_name": "Python 3 (ipykernel)",
   "language": "python",
   "name": "python3"
  },
  "language_info": {
   "codemirror_mode": {
    "name": "ipython",
    "version": 3
   },
   "file_extension": ".py",
   "mimetype": "text/x-python",
   "name": "python",
   "nbconvert_exporter": "python",
   "pygments_lexer": "ipython3",
   "version": "3.11.3"
  }
 },
 "nbformat": 4,
 "nbformat_minor": 5
}
